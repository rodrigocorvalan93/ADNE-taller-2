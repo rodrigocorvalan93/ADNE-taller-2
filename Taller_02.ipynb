{
 "cells": [
  {
   "cell_type": "code",
   "execution_count": 1,
   "metadata": {},
   "outputs": [],
   "source": [
    "import os\n",
    "import random"
   ]
  },
  {
   "cell_type": "markdown",
   "metadata": {},
   "source": [
    "## Alumnos: *ingresar aquí el nombre de los alumnos a quienes corresponde esta entrega*"
   ]
  },
  {
   "cell_type": "markdown",
   "metadata": {},
   "source": [
    "## Objetivo"
   ]
  },
  {
   "cell_type": "markdown",
   "metadata": {},
   "source": [
    "En este taller implementarán un sistemade análisis de sentimiendo que, tomando como input el texto escrito un una reseña de Guía Óleo, detectar si las mismas hablan bien o mal de la comida del restaurant que se reseña.\n",
    "\n",
    "El archivo *reviews.zip* contiene dentro un archivo llamado *clasificaciones.txt* y una subcarpeta llamada *corpus*. Dentro de esta subcarpeta se encuentran archivos de texto que contienen reseñas hechas a restaurantes en la página de Guía Óleo. A su vez, el archivo de clasificaciones contiene la puntuación que los autores pusieron en el campo \"comida\". Las clasificaciones pueden tener 4 valores: \"Excelente\", \"Muy buena\", \"Buena\", y \"Mala\". Se pide que el sistema se enfoque en un problema binario, en donde una clase debe ser \"Excelente\" y la otra \"No_Excelente\" (que debe incorporar los reviews de clase \"Muy buena\", \"Buena\", y \"Mala\").\n",
    "\n",
    "La solución debe realizar los siguientes pasos y en el orden en que se presentan:\n",
    "\n",
    "1. Tokenizar todas las reviews tal cual lo hace la función *tokenize_all* presentada en clases (como ayuda este paso se entrega la función *load_guia_oleo_corpus*).\n",
    "\n",
    "2. Dividir el corpus en 2 conjuntos elegidos al azar. Un conjunto de entrenamiento (que debe contener el 70% de los datos) y un conjunto de testeo (que debe contener el restante 30% de los datos).\n",
    "\n",
    "3. Genear matrices tipo document-term matrix para ambos conjuntos de datos. Para esto pueden (y se recomienda) dejar de lado en todos los conjuntos de datos los tokens menos frecuentes del conjunto de **entrenamiento** (IMPORTANTE: este conteo no debe hacerse sobre el conjunto testeo).\n",
    "\n",
    "4. Entrenar un modelo de Random Forest usando como input el conjunto de entrenamiento. Recuerden que la clasificación debe ser binaria (\"Excelente\" vs. \"No_Excelente\").\n",
    "\n",
    "5. Evaluar el sistema en el conjunto de testeo.\n",
    "\n",
    "Se pide que todo este sistema se encuentre implementado en esta notebook y, además del código presentado, se evaluará que la notebook esté bien explicada, sea prolija, y permita entender de manera simple qué es lo que están haciendo y por qué lo están haciendo."
   ]
  },
  {
   "cell_type": "markdown",
   "metadata": {},
   "source": [
    "## Función de ayuda"
   ]
  },
  {
   "cell_type": "code",
   "execution_count": 2,
   "metadata": {},
   "outputs": [],
   "source": [
    "def load_guia_oleo_corpus(path = \".\"):\n",
    "    \"\"\" Generador que permite iterar sobre el corpus de Guía Óleo \"\"\"\n",
    "    \n",
    "    with open(path + \"/clasificacion.txt\", encoding=\"utf-8\") as f:\n",
    "        clasificaciones = [e.strip().split(\"\\t\") for e in f.readlines()]\n",
    "    \n",
    "    random.shuffle(clasificaciones)\n",
    "    \n",
    "    for p, r in clasificaciones:\n",
    "        with open(path + \"/corpus/\" + p + \".txt\", encoding=\"utf-8\") as f:\n",
    "            raw_text = f.read()\n",
    "        yield({\"id\": p, \"rank\": r, \"raw_text\": raw_text})"
   ]
  },
  {
   "cell_type": "markdown",
   "metadata": {},
   "source": [
    "# Taller 02: Análisis de Sentimiento de Reviews de Guía Oleo"
   ]
  },
  {
   "cell_type": "code",
   "execution_count": 3,
   "metadata": {},
   "outputs": [
    {
     "data": {
      "text/plain": [
       "{'id': 'comment_id_203338',\n",
       " 'rank': 'Muy buena',\n",
       " 'raw_text': 'Típico festejo de oficina, iba con miedo por los malos comentarios, por lo visto han mejorado, variedad en las mesas buffet y la parrilla, quizás algunas cosas no se repongan pero la variedad es amplia y buena. Los mozos lentísimos (estaba lleno) y con el postre tardaron tanto (30 min) que realmente creo que esperaban que nos fueramos sin consumirlo, pero eran muy ricos.'}"
      ]
     },
     "execution_count": 3,
     "metadata": {},
     "output_type": "execute_result"
    }
   ],
   "source": [
    "guia_oleo = load_guia_oleo_corpus(\".\")\n",
    "next(guia_oleo)"
   ]
  },
  {
   "cell_type": "markdown",
   "metadata": {},
   "source": [
    "## Solución"
   ]
  },
  {
   "cell_type": "markdown",
   "metadata": {},
   "source": [
    "Aquí deberían ir completando todos los puntos que se piden."
   ]
  },
  {
   "cell_type": "markdown",
   "metadata": {},
   "source": [
    "## Modalidad de entrega"
   ]
  },
  {
   "cell_type": "markdown",
   "metadata": {},
   "source": [
    "El taller puede ser resuelto en grupos de a lo sumo 3 integrantes.\n",
    "\n",
    "La resolución consiste en escribir una notebook que resuelva lo que la consigna pide.\n",
    "\n",
    "Se evaluará que el código entregado sea claro y legible.\n",
    "\n",
    "Si el código no corre, el taller no estará aprobado y deberá ser reentregado.\n",
    "\n",
    "La entrega debe hacerse a rgalvez@utdt.edu."
   ]
  }
 ],
 "metadata": {
  "kernelspec": {
   "display_name": "Python 3",
   "language": "python",
   "name": "python3"
  },
  "language_info": {
   "codemirror_mode": {
    "name": "ipython",
    "version": 3
   },
   "file_extension": ".py",
   "mimetype": "text/x-python",
   "name": "python",
   "nbconvert_exporter": "python",
   "pygments_lexer": "ipython3",
   "version": "3.7.3"
  }
 },
 "nbformat": 4,
 "nbformat_minor": 2
}
